{
 "cells": [
  {
   "cell_type": "markdown",
   "metadata": {},
   "source": [
    "# UCI Irvine Diabetes Dataset AIM94"
   ]
  },
  {
   "cell_type": "markdown",
   "metadata": {},
   "source": [
    "## Background and Objective"
   ]
  },
  {
   "cell_type": "markdown",
   "metadata": {},
   "source": [
    "The dataset analyzed here was collected for the 1994 AI in Medicine Symposium and is hosted at the UCI Irvine Machine Learning Repository.  The dataset contains blood glucose and other measurements for 70 patients with Insulin Dependent Diabetes Mellitus (IDDM).  So what we are dealing with here is time series data with somewhat fictitious uniform time stamps for part of the data set.  \n",
    "\n",
    "To summarize in layman's terms, both high and low blood glucose levels are very unhealthy for the diabetes patient.  \n",
    "\n",
    "My objective in analyzing this dataset is to see if I can fit a simple linear model that will look for secular (consistently increasing or decreasing) trendds in the time series data.  A secular trend in the wrong direction would indicate that the patient needs attention."
   ]
  },
  {
   "cell_type": "markdown",
   "metadata": {},
   "source": [
    "## References"
   ]
  },
  {
   "cell_type": "markdown",
   "metadata": {},
   "source": [
    "1.  https://archive.ics.uci.edu/ml/datasets/Diabetes\n",
    "2.  AIM-94 data set provided by Michael Kahn, MD, PhD, Washington University, St. Louis, MO "
   ]
  },
  {
   "cell_type": "markdown",
   "metadata": {},
   "source": [
    "## Imports"
   ]
  },
  {
   "cell_type": "code",
   "execution_count": 1,
   "metadata": {
    "collapsed": false
   },
   "outputs": [],
   "source": [
    "%matplotlib inline\n",
    "import pandas as pd\n",
    "import numpy as np\n",
    "import scipy\n",
    "import scipy.stats\n",
    "import matplotlib.pyplot as plt\n",
    "import statsmodels.api as sm\n",
    "from ggplot import *\n",
    "import sklearn as sk\n",
    "from sklearn_pandas import DataFrameMapper, cross_val_score\n",
    "import datetime as dt\n",
    "from dateutil.parser import parse as date_parse\n",
    "\n",
    "pd.options.display.max_columns = 50\n",
    "pd.options.mode.chained_assignment = None"
   ]
  },
  {
   "cell_type": "markdown",
   "metadata": {},
   "source": [
    "## Read and Parse Data"
   ]
  },
  {
   "cell_type": "code",
   "execution_count": 2,
   "metadata": {
    "collapsed": true
   },
   "outputs": [],
   "source": [
    "df_raw = pd.read_table('diabetes.txt', names = ['id', 'date', 'time', 'code', 'value'])"
   ]
  },
  {
   "cell_type": "code",
   "execution_count": 3,
   "metadata": {
    "collapsed": false
   },
   "outputs": [
    {
     "data": {
      "text/html": [
       "<div>\n",
       "<table border=\"1\" class=\"dataframe\">\n",
       "  <thead>\n",
       "    <tr style=\"text-align: right;\">\n",
       "      <th></th>\n",
       "      <th>id</th>\n",
       "      <th>date</th>\n",
       "      <th>time</th>\n",
       "      <th>code</th>\n",
       "      <th>value</th>\n",
       "    </tr>\n",
       "  </thead>\n",
       "  <tbody>\n",
       "    <tr>\n",
       "      <th>0</th>\n",
       "      <td>1</td>\n",
       "      <td>04-21-1991</td>\n",
       "      <td>9:09</td>\n",
       "      <td>58</td>\n",
       "      <td>100</td>\n",
       "    </tr>\n",
       "    <tr>\n",
       "      <th>1</th>\n",
       "      <td>1</td>\n",
       "      <td>04-21-1991</td>\n",
       "      <td>9:09</td>\n",
       "      <td>33</td>\n",
       "      <td>009</td>\n",
       "    </tr>\n",
       "    <tr>\n",
       "      <th>2</th>\n",
       "      <td>1</td>\n",
       "      <td>04-21-1991</td>\n",
       "      <td>9:09</td>\n",
       "      <td>34</td>\n",
       "      <td>013</td>\n",
       "    </tr>\n",
       "    <tr>\n",
       "      <th>3</th>\n",
       "      <td>1</td>\n",
       "      <td>04-21-1991</td>\n",
       "      <td>17:08</td>\n",
       "      <td>62</td>\n",
       "      <td>119</td>\n",
       "    </tr>\n",
       "    <tr>\n",
       "      <th>4</th>\n",
       "      <td>1</td>\n",
       "      <td>04-21-1991</td>\n",
       "      <td>17:08</td>\n",
       "      <td>33</td>\n",
       "      <td>007</td>\n",
       "    </tr>\n",
       "  </tbody>\n",
       "</table>\n",
       "</div>"
      ],
      "text/plain": [
       "   id        date   time  code value\n",
       "0   1  04-21-1991   9:09    58   100\n",
       "1   1  04-21-1991   9:09    33   009\n",
       "2   1  04-21-1991   9:09    34   013\n",
       "3   1  04-21-1991  17:08    62   119\n",
       "4   1  04-21-1991  17:08    33   007"
      ]
     },
     "execution_count": 3,
     "metadata": {},
     "output_type": "execute_result"
    }
   ],
   "source": [
    "df_raw.head()"
   ]
  },
  {
   "cell_type": "code",
   "execution_count": 4,
   "metadata": {
    "collapsed": false,
    "scrolled": true
   },
   "outputs": [
    {
     "data": {
      "text/plain": [
       "id        int64\n",
       "date     object\n",
       "time     object\n",
       "code      int64\n",
       "value    object\n",
       "dtype: object"
      ]
     },
     "execution_count": 4,
     "metadata": {},
     "output_type": "execute_result"
    }
   ],
   "source": [
    "df_raw.dtypes"
   ]
  },
  {
   "cell_type": "markdown",
   "metadata": {},
   "source": [
    "Cannot convert values to_numeric() here because some of them are things like \"hi\" and \"lo\". Need to filter down to blood glucose measurements first."
   ]
  },
  {
   "cell_type": "markdown",
   "metadata": {},
   "source": [
    "Key to code fields below.  Note that we have categorical variables in this dataset (hypoglycemic symptoms, etc.).  The Code field is deciphered as follows:\n",
    "\n",
    "33 = Regular insulin dose  \n",
    "34 = NPH insulin dose  \n",
    "35 = UltraLente insulin dose  \n",
    "48 = Unspecified blood glucose measurement  \n",
    "57 = Unspecified blood glucose measurement  \n",
    "58 = Pre-breakfast blood glucose measurement  \n",
    "59 = Post-breakfast blood glucose measurement  \n",
    "60 = Pre-lunch blood glucose measurement  \n",
    "61 = Post-lunch blood glucose measurement  \n",
    "62 = Pre-supper blood glucose measurement  \n",
    "63 = Post-supper blood glucose measurement  \n",
    "64 = Pre-snack blood glucose measurement  \n",
    "65 = Hypoglycemic symptoms  \n",
    "66 = Typical meal ingestion  \n",
    "67 = More-than-usual meal ingestion  \n",
    "68 = Less-than-usual meal ingestion  \n",
    "69 = Typical exercise activity  \n",
    "70 = More-than-usual exercise activity  \n",
    "71 = Less-than-usual exercise activity  \n",
    "72 = Unspecified special event  "
   ]
  },
  {
   "cell_type": "markdown",
   "metadata": {},
   "source": [
    "## Filter and Clean Data"
   ]
  },
  {
   "cell_type": "markdown",
   "metadata": {},
   "source": [
    "Filter down to blood glucose measurements only."
   ]
  },
  {
   "cell_type": "code",
   "execution_count": 5,
   "metadata": {
    "collapsed": true
   },
   "outputs": [],
   "source": [
    "df_bg = df_raw[(df_raw['code'] >= 48) & (df_raw['code'] <= 64)]"
   ]
  },
  {
   "cell_type": "code",
   "execution_count": 6,
   "metadata": {
    "collapsed": false
   },
   "outputs": [
    {
     "data": {
      "text/html": [
       "<div>\n",
       "<table border=\"1\" class=\"dataframe\">\n",
       "  <thead>\n",
       "    <tr style=\"text-align: right;\">\n",
       "      <th></th>\n",
       "      <th>id</th>\n",
       "      <th>date</th>\n",
       "      <th>time</th>\n",
       "      <th>code</th>\n",
       "      <th>value</th>\n",
       "    </tr>\n",
       "  </thead>\n",
       "  <tbody>\n",
       "    <tr>\n",
       "      <th>0</th>\n",
       "      <td>1</td>\n",
       "      <td>04-21-1991</td>\n",
       "      <td>9:09</td>\n",
       "      <td>58</td>\n",
       "      <td>100</td>\n",
       "    </tr>\n",
       "    <tr>\n",
       "      <th>3</th>\n",
       "      <td>1</td>\n",
       "      <td>04-21-1991</td>\n",
       "      <td>17:08</td>\n",
       "      <td>62</td>\n",
       "      <td>119</td>\n",
       "    </tr>\n",
       "    <tr>\n",
       "      <th>5</th>\n",
       "      <td>1</td>\n",
       "      <td>04-21-1991</td>\n",
       "      <td>22:51</td>\n",
       "      <td>48</td>\n",
       "      <td>123</td>\n",
       "    </tr>\n",
       "    <tr>\n",
       "      <th>6</th>\n",
       "      <td>1</td>\n",
       "      <td>04-22-1991</td>\n",
       "      <td>7:35</td>\n",
       "      <td>58</td>\n",
       "      <td>216</td>\n",
       "    </tr>\n",
       "    <tr>\n",
       "      <th>10</th>\n",
       "      <td>1</td>\n",
       "      <td>04-22-1991</td>\n",
       "      <td>16:56</td>\n",
       "      <td>62</td>\n",
       "      <td>211</td>\n",
       "    </tr>\n",
       "  </tbody>\n",
       "</table>\n",
       "</div>"
      ],
      "text/plain": [
       "    id        date   time  code value\n",
       "0    1  04-21-1991   9:09    58   100\n",
       "3    1  04-21-1991  17:08    62   119\n",
       "5    1  04-21-1991  22:51    48   123\n",
       "6    1  04-22-1991   7:35    58   216\n",
       "10   1  04-22-1991  16:56    62   211"
      ]
     },
     "execution_count": 6,
     "metadata": {},
     "output_type": "execute_result"
    }
   ],
   "source": [
    "df_bg.head()"
   ]
  },
  {
   "cell_type": "markdown",
   "metadata": {},
   "source": [
    "Below, errors = 'coerce' forces numeric conversion without errors, inserting NaN (not a number) if it cannot convert."
   ]
  },
  {
   "cell_type": "code",
   "execution_count": 7,
   "metadata": {
    "collapsed": false
   },
   "outputs": [],
   "source": [
    "df_bg['val'] = pd.to_numeric(df_bg['value'], errors = 'coerce')"
   ]
  },
  {
   "cell_type": "code",
   "execution_count": 8,
   "metadata": {
    "collapsed": false
   },
   "outputs": [
    {
     "data": {
      "text/html": [
       "<div>\n",
       "<table border=\"1\" class=\"dataframe\">\n",
       "  <thead>\n",
       "    <tr style=\"text-align: right;\">\n",
       "      <th></th>\n",
       "      <th>id</th>\n",
       "      <th>date</th>\n",
       "      <th>time</th>\n",
       "      <th>code</th>\n",
       "      <th>value</th>\n",
       "      <th>val</th>\n",
       "    </tr>\n",
       "  </thead>\n",
       "  <tbody>\n",
       "    <tr>\n",
       "      <th>1112</th>\n",
       "      <td>2</td>\n",
       "      <td>10-31-1989</td>\n",
       "      <td>12:00</td>\n",
       "      <td>60</td>\n",
       "      <td>0Hi</td>\n",
       "      <td>NaN</td>\n",
       "    </tr>\n",
       "    <tr>\n",
       "      <th>1146</th>\n",
       "      <td>2</td>\n",
       "      <td>11-04-1989</td>\n",
       "      <td>18:00</td>\n",
       "      <td>62</td>\n",
       "      <td>0Hi</td>\n",
       "      <td>NaN</td>\n",
       "    </tr>\n",
       "    <tr>\n",
       "      <th>1152</th>\n",
       "      <td>2</td>\n",
       "      <td>11-05-1989</td>\n",
       "      <td>12:00</td>\n",
       "      <td>60</td>\n",
       "      <td>0Hi</td>\n",
       "      <td>NaN</td>\n",
       "    </tr>\n",
       "    <tr>\n",
       "      <th>1160</th>\n",
       "      <td>2</td>\n",
       "      <td>11-06-1989</td>\n",
       "      <td>12:00</td>\n",
       "      <td>60</td>\n",
       "      <td>0Hi</td>\n",
       "      <td>NaN</td>\n",
       "    </tr>\n",
       "    <tr>\n",
       "      <th>1164</th>\n",
       "      <td>2</td>\n",
       "      <td>11-06-1989</td>\n",
       "      <td>22:00</td>\n",
       "      <td>48</td>\n",
       "      <td>0Hi</td>\n",
       "      <td>NaN</td>\n",
       "    </tr>\n",
       "    <tr>\n",
       "      <th>1178</th>\n",
       "      <td>2</td>\n",
       "      <td>11-08-1989</td>\n",
       "      <td>18:00</td>\n",
       "      <td>62</td>\n",
       "      <td>0Lo</td>\n",
       "      <td>NaN</td>\n",
       "    </tr>\n",
       "    <tr>\n",
       "      <th>1554</th>\n",
       "      <td>2</td>\n",
       "      <td>12-25-1989</td>\n",
       "      <td>22:00</td>\n",
       "      <td>48</td>\n",
       "      <td>0Hi</td>\n",
       "      <td>NaN</td>\n",
       "    </tr>\n",
       "    <tr>\n",
       "      <th>16466</th>\n",
       "      <td>40</td>\n",
       "      <td>11-06-1989</td>\n",
       "      <td>11:00</td>\n",
       "      <td>57</td>\n",
       "      <td>0''</td>\n",
       "      <td>NaN</td>\n",
       "    </tr>\n",
       "  </tbody>\n",
       "</table>\n",
       "</div>"
      ],
      "text/plain": [
       "       id        date   time  code value  val\n",
       "1112    2  10-31-1989  12:00    60   0Hi  NaN\n",
       "1146    2  11-04-1989  18:00    62   0Hi  NaN\n",
       "1152    2  11-05-1989  12:00    60   0Hi  NaN\n",
       "1160    2  11-06-1989  12:00    60   0Hi  NaN\n",
       "1164    2  11-06-1989  22:00    48   0Hi  NaN\n",
       "1178    2  11-08-1989  18:00    62   0Lo  NaN\n",
       "1554    2  12-25-1989  22:00    48   0Hi  NaN\n",
       "16466  40  11-06-1989  11:00    57   0''  NaN"
      ]
     },
     "execution_count": 8,
     "metadata": {},
     "output_type": "execute_result"
    }
   ],
   "source": [
    "df_bg[df_bg['val'].isnull()]"
   ]
  },
  {
   "cell_type": "markdown",
   "metadata": {},
   "source": [
    "Gotta clean up that dirty data."
   ]
  },
  {
   "cell_type": "code",
   "execution_count": 9,
   "metadata": {
    "collapsed": true
   },
   "outputs": [],
   "source": [
    "df_bg = df_bg[df_bg['val'].notnull()]"
   ]
  },
  {
   "cell_type": "markdown",
   "metadata": {},
   "source": [
    "Filter down to blood glucose measurements that are high or low.  "
   ]
  },
  {
   "cell_type": "code",
   "execution_count": 10,
   "metadata": {
    "collapsed": true
   },
   "outputs": [],
   "source": [
    "df_high = df_bg[df_bg['val'] >= 250]"
   ]
  },
  {
   "cell_type": "code",
   "execution_count": 11,
   "metadata": {
    "collapsed": false
   },
   "outputs": [],
   "source": [
    "df_low = df_bg[df_bg['val'] <= 80]"
   ]
  },
  {
   "cell_type": "markdown",
   "metadata": {},
   "source": [
    "## Look for Secular Trend in Data, start with one patient"
   ]
  },
  {
   "cell_type": "markdown",
   "metadata": {},
   "source": [
    "Now look for a secular trend.  We want to know if they lows are decreasing over time (or the highs increasing) for each particular patient ID.  "
   ]
  },
  {
   "cell_type": "code",
   "execution_count": 12,
   "metadata": {
    "collapsed": false
   },
   "outputs": [
    {
     "data": {
      "text/plain": [
       "51"
      ]
     },
     "execution_count": 12,
     "metadata": {},
     "output_type": "execute_result"
    }
   ],
   "source": [
    "len(df_high[df_high['id'] == 1])"
   ]
  },
  {
   "cell_type": "markdown",
   "metadata": {},
   "source": [
    "I want to extract each patient's blood glucose data into a separate data structure.  In this case, Y = blood glucose and X = time.  I need to pull out Y and X for each patient, run OLS, and check results for slope.  Let's do it just for patient id = 1 for now.  "
   ]
  },
  {
   "cell_type": "code",
   "execution_count": 13,
   "metadata": {
    "collapsed": true
   },
   "outputs": [],
   "source": [
    "df_1 = df_high[df_high['id'] == 1]"
   ]
  },
  {
   "cell_type": "code",
   "execution_count": 14,
   "metadata": {
    "collapsed": false,
    "scrolled": true
   },
   "outputs": [
    {
     "data": {
      "text/html": [
       "<div>\n",
       "<table border=\"1\" class=\"dataframe\">\n",
       "  <thead>\n",
       "    <tr style=\"text-align: right;\">\n",
       "      <th></th>\n",
       "      <th>id</th>\n",
       "      <th>date</th>\n",
       "      <th>time</th>\n",
       "      <th>code</th>\n",
       "      <th>value</th>\n",
       "      <th>val</th>\n",
       "    </tr>\n",
       "  </thead>\n",
       "  <tbody>\n",
       "    <tr>\n",
       "      <th>12</th>\n",
       "      <td>1</td>\n",
       "      <td>04-23-1991</td>\n",
       "      <td>7:25</td>\n",
       "      <td>58</td>\n",
       "      <td>257</td>\n",
       "      <td>257</td>\n",
       "    </tr>\n",
       "    <tr>\n",
       "      <th>22</th>\n",
       "      <td>1</td>\n",
       "      <td>04-24-1991</td>\n",
       "      <td>22:09</td>\n",
       "      <td>48</td>\n",
       "      <td>340</td>\n",
       "      <td>340</td>\n",
       "    </tr>\n",
       "    <tr>\n",
       "      <th>30</th>\n",
       "      <td>1</td>\n",
       "      <td>04-25-1991</td>\n",
       "      <td>21:54</td>\n",
       "      <td>48</td>\n",
       "      <td>288</td>\n",
       "      <td>288</td>\n",
       "    </tr>\n",
       "    <tr>\n",
       "      <th>38</th>\n",
       "      <td>1</td>\n",
       "      <td>04-27-1991</td>\n",
       "      <td>10:03</td>\n",
       "      <td>58</td>\n",
       "      <td>259</td>\n",
       "      <td>259</td>\n",
       "    </tr>\n",
       "    <tr>\n",
       "      <th>41</th>\n",
       "      <td>1</td>\n",
       "      <td>04-27-1991</td>\n",
       "      <td>17:20</td>\n",
       "      <td>62</td>\n",
       "      <td>256</td>\n",
       "      <td>256</td>\n",
       "    </tr>\n",
       "  </tbody>\n",
       "</table>\n",
       "</div>"
      ],
      "text/plain": [
       "    id        date   time  code value  val\n",
       "12   1  04-23-1991   7:25    58   257  257\n",
       "22   1  04-24-1991  22:09    48   340  340\n",
       "30   1  04-25-1991  21:54    48   288  288\n",
       "38   1  04-27-1991  10:03    58   259  259\n",
       "41   1  04-27-1991  17:20    62   256  256"
      ]
     },
     "execution_count": 14,
     "metadata": {},
     "output_type": "execute_result"
    }
   ],
   "source": [
    "df_1.head()"
   ]
  },
  {
   "cell_type": "markdown",
   "metadata": {},
   "source": [
    "I really want a single datetime instead of date and time.  "
   ]
  },
  {
   "cell_type": "code",
   "execution_count": 15,
   "metadata": {
    "collapsed": true
   },
   "outputs": [],
   "source": [
    "df_1['timestamp'] = df_1['date'] + ' ' + df_1['time']"
   ]
  },
  {
   "cell_type": "code",
   "execution_count": 16,
   "metadata": {
    "collapsed": false
   },
   "outputs": [],
   "source": [
    "df_1['datetime'] = pd.to_datetime(df_1['timestamp'])"
   ]
  },
  {
   "cell_type": "markdown",
   "metadata": {},
   "source": [
    "Now I really want an epoch."
   ]
  },
  {
   "cell_type": "code",
   "execution_count": 17,
   "metadata": {
    "collapsed": false
   },
   "outputs": [
    {
     "data": {
      "text/plain": [
       "id                    int64\n",
       "date                 object\n",
       "time                 object\n",
       "code                  int64\n",
       "value                object\n",
       "val                 float64\n",
       "timestamp            object\n",
       "datetime     datetime64[ns]\n",
       "dtype: object"
      ]
     },
     "execution_count": 17,
     "metadata": {},
     "output_type": "execute_result"
    }
   ],
   "source": [
    "df_1.dtypes"
   ]
  },
  {
   "cell_type": "code",
   "execution_count": 18,
   "metadata": {
    "collapsed": false
   },
   "outputs": [],
   "source": [
    "df_1['epoch'] = df_1['datetime'].astype(np.int64) // 10**9"
   ]
  },
  {
   "cell_type": "code",
   "execution_count": 19,
   "metadata": {
    "collapsed": false
   },
   "outputs": [
    {
     "data": {
      "text/html": [
       "<div>\n",
       "<table border=\"1\" class=\"dataframe\">\n",
       "  <thead>\n",
       "    <tr style=\"text-align: right;\">\n",
       "      <th></th>\n",
       "      <th>id</th>\n",
       "      <th>date</th>\n",
       "      <th>time</th>\n",
       "      <th>code</th>\n",
       "      <th>value</th>\n",
       "      <th>val</th>\n",
       "      <th>timestamp</th>\n",
       "      <th>datetime</th>\n",
       "      <th>epoch</th>\n",
       "    </tr>\n",
       "  </thead>\n",
       "  <tbody>\n",
       "    <tr>\n",
       "      <th>12</th>\n",
       "      <td>1</td>\n",
       "      <td>04-23-1991</td>\n",
       "      <td>7:25</td>\n",
       "      <td>58</td>\n",
       "      <td>257</td>\n",
       "      <td>257</td>\n",
       "      <td>04-23-1991 7:25</td>\n",
       "      <td>1991-04-23 07:25:00</td>\n",
       "      <td>672391500</td>\n",
       "    </tr>\n",
       "    <tr>\n",
       "      <th>22</th>\n",
       "      <td>1</td>\n",
       "      <td>04-24-1991</td>\n",
       "      <td>22:09</td>\n",
       "      <td>48</td>\n",
       "      <td>340</td>\n",
       "      <td>340</td>\n",
       "      <td>04-24-1991 22:09</td>\n",
       "      <td>1991-04-24 22:09:00</td>\n",
       "      <td>672530940</td>\n",
       "    </tr>\n",
       "    <tr>\n",
       "      <th>30</th>\n",
       "      <td>1</td>\n",
       "      <td>04-25-1991</td>\n",
       "      <td>21:54</td>\n",
       "      <td>48</td>\n",
       "      <td>288</td>\n",
       "      <td>288</td>\n",
       "      <td>04-25-1991 21:54</td>\n",
       "      <td>1991-04-25 21:54:00</td>\n",
       "      <td>672616440</td>\n",
       "    </tr>\n",
       "    <tr>\n",
       "      <th>38</th>\n",
       "      <td>1</td>\n",
       "      <td>04-27-1991</td>\n",
       "      <td>10:03</td>\n",
       "      <td>58</td>\n",
       "      <td>259</td>\n",
       "      <td>259</td>\n",
       "      <td>04-27-1991 10:03</td>\n",
       "      <td>1991-04-27 10:03:00</td>\n",
       "      <td>672746580</td>\n",
       "    </tr>\n",
       "    <tr>\n",
       "      <th>41</th>\n",
       "      <td>1</td>\n",
       "      <td>04-27-1991</td>\n",
       "      <td>17:20</td>\n",
       "      <td>62</td>\n",
       "      <td>256</td>\n",
       "      <td>256</td>\n",
       "      <td>04-27-1991 17:20</td>\n",
       "      <td>1991-04-27 17:20:00</td>\n",
       "      <td>672772800</td>\n",
       "    </tr>\n",
       "  </tbody>\n",
       "</table>\n",
       "</div>"
      ],
      "text/plain": [
       "    id        date   time  code value  val         timestamp  \\\n",
       "12   1  04-23-1991   7:25    58   257  257   04-23-1991 7:25   \n",
       "22   1  04-24-1991  22:09    48   340  340  04-24-1991 22:09   \n",
       "30   1  04-25-1991  21:54    48   288  288  04-25-1991 21:54   \n",
       "38   1  04-27-1991  10:03    58   259  259  04-27-1991 10:03   \n",
       "41   1  04-27-1991  17:20    62   256  256  04-27-1991 17:20   \n",
       "\n",
       "              datetime      epoch  \n",
       "12 1991-04-23 07:25:00  672391500  \n",
       "22 1991-04-24 22:09:00  672530940  \n",
       "30 1991-04-25 21:54:00  672616440  \n",
       "38 1991-04-27 10:03:00  672746580  \n",
       "41 1991-04-27 17:20:00  672772800  "
      ]
     },
     "execution_count": 19,
     "metadata": {},
     "output_type": "execute_result"
    }
   ],
   "source": [
    "df_1.head()"
   ]
  },
  {
   "cell_type": "code",
   "execution_count": 20,
   "metadata": {
    "collapsed": false
   },
   "outputs": [
    {
     "name": "stderr",
     "output_type": "stream",
     "text": [
      "/Users/jonneff/anaconda/lib/python2.7/site-packages/matplotlib/__init__.py:872: UserWarning: axes.color_cycle is deprecated and replaced with axes.prop_cycle; please use the latter.\n",
      "  warnings.warn(self.msg_depr % (key, alt_key))\n"
     ]
    },
    {
     "data": {
      "image/png": "[encoded data removed]",
      "text/plain": [
       "<matplotlib.figure.Figure at 0x10a5f13d0>"
      ]
     },
     "metadata": {},
     "output_type": "display_data"
    },
    {
     "data": {
      "text/plain": [
       "<ggplot: (279192749)>"
      ]
     },
     "execution_count": 20,
     "metadata": {},
     "output_type": "execute_result"
    }
   ],
   "source": [
    "ggplot(df_1, aes(x='epoch', \n",
    "           y='val')) + geom_line(stat='identity') + ggtitle(\n",
    "            'Blood Glucose vs. Epoch')"
   ]
  },
  {
   "cell_type": "code",
   "execution_count": 21,
   "metadata": {
    "collapsed": false
   },
   "outputs": [],
   "source": [
    "x = df_1['epoch']\n",
    "df_1\n",
    "y = df_1['val']\n",
    "x = sm.add_constant(x)\n",
    "model = sm.OLS(y, x)\n",
    "results = model.fit(method='qr')"
   ]
  },
  {
   "cell_type": "code",
   "execution_count": 23,
   "metadata": {
    "collapsed": false
   },
   "outputs": [
    {
     "name": "stdout",
     "output_type": "stream",
     "text": [
      "                            OLS Regression Results                            \n",
      "==============================================================================\n",
      "Dep. Variable:                    val   R-squared:                       0.014\n",
      "Model:                            OLS   Adj. R-squared:                 -0.006\n",
      "Method:                 Least Squares   F-statistic:                    0.6810\n",
      "Date:                Thu, 11 Feb 2016   Prob (F-statistic):              0.413\n",
      "Time:                        07:13:27   Log-Likelihood:                -234.71\n",
      "No. Observations:                  51   AIC:                             473.4\n",
      "Df Residuals:                      49   BIC:                             477.3\n",
      "Df Model:                           1                                         \n",
      "Covariance Type:            nonrobust                                         \n",
      "==============================================================================\n",
      "                 coef    std err          t      P>|t|      [95.0% Conf. Int.]\n",
      "------------------------------------------------------------------------------\n",
      "const        821.6138    660.159      1.245      0.219      -505.026  2148.254\n",
      "epoch      -8.038e-07   9.74e-07     -0.825      0.413     -2.76e-06  1.15e-06\n",
      "==============================================================================\n",
      "Omnibus:                        8.045   Durbin-Watson:                   2.164\n",
      "Prob(Omnibus):                  0.018   Jarque-Bera (JB):                7.919\n",
      "Skew:                           0.964   Prob(JB):                       0.0191\n",
      "Kurtosis:                       3.114   Cond. No.                     1.30e+11\n",
      "==============================================================================\n",
      "\n",
      "Warnings:\n",
      "[1] Standard Errors assume that the covariance matrix of the errors is correctly specified.\n",
      "[2] The condition number is large, 1.3e+11. This might indicate that there are\n",
      "strong multicollinearity or other numerical problems.\n"
     ]
    }
   ],
   "source": [
    "prediction = results.predict(exog=x)\n",
    "print(results.summary())"
   ]
  },
  {
   "cell_type": "markdown",
   "metadata": {
    "collapsed": true
   },
   "source": [
    "OK the fit is lousy, this is not very linear, but the slope is negative.  Let's see the linear model and actual data together."
   ]
  },
  {
   "cell_type": "code",
   "execution_count": 24,
   "metadata": {
    "collapsed": false
   },
   "outputs": [
    {
     "data": {
      "image/png": "[encoded data removed]",
      "text/plain": [
       "<matplotlib.figure.Figure at 0x10ce28a50>"
      ]
     },
     "metadata": {},
     "output_type": "display_data"
    },
    {
     "data": {
      "text/plain": [
       "<ggplot: (279565857)>"
      ]
     },
     "execution_count": 24,
     "metadata": {},
     "output_type": "execute_result"
    }
   ],
   "source": [
    "df_1['pred'] = prediction\n",
    "ggplot(df_1, aes(x = 'epoch')) + geom_line(\n",
    "  aes(y = 'val', colour = \"blue\")\n",
    "    ) + geom_line(aes(y = 'pred', colour = \"red\")) + ggtitle(\n",
    "            'Actual BG Data (Blue) and Model Prediction (Red)')"
   ]
  },
  {
   "cell_type": "code",
   "execution_count": 25,
   "metadata": {
    "collapsed": false
   },
   "outputs": [
    {
     "data": {
      "text/plain": [
       "[821.6137613509087, -8.0378213099268631e-07]"
      ]
     },
     "execution_count": 25,
     "metadata": {},
     "output_type": "execute_result"
    }
   ],
   "source": [
    "list(results.params)"
   ]
  },
  {
   "cell_type": "markdown",
   "metadata": {},
   "source": [
    "## Look for Secular Trends for All Patients"
   ]
  },
  {
   "cell_type": "markdown",
   "metadata": {},
   "source": [
    "So now we can iterate through all of the \"high\" data and get a list of slopes for each patient, then check to see if any of them are positive.  The positive slopes would indicate that the patient's blood glucose is not under control and needs attention.  \n",
    "\n",
    "First, get epoch for all points in dataset."
   ]
  },
  {
   "cell_type": "code",
   "execution_count": 26,
   "metadata": {
    "collapsed": true
   },
   "outputs": [],
   "source": [
    "def add_epoch(df):\n",
    "    df['timestamp'] = df['date'] + ' ' + df['time']\n",
    "    df['datetime'] = pd.to_datetime(df['timestamp'])\n",
    "    df['epoch'] = df['datetime'].astype(np.int64) // 10**9\n",
    "    return df"
   ]
  },
  {
   "cell_type": "code",
   "execution_count": 27,
   "metadata": {
    "collapsed": true
   },
   "outputs": [],
   "source": [
    "df_high = add_epoch(df_high)"
   ]
  },
  {
   "cell_type": "code",
   "execution_count": 28,
   "metadata": {
    "collapsed": false
   },
   "outputs": [
    {
     "data": {
      "text/html": [
       "<div>\n",
       "<table border=\"1\" class=\"dataframe\">\n",
       "  <thead>\n",
       "    <tr style=\"text-align: right;\">\n",
       "      <th></th>\n",
       "      <th>id</th>\n",
       "      <th>date</th>\n",
       "      <th>time</th>\n",
       "      <th>code</th>\n",
       "      <th>value</th>\n",
       "      <th>val</th>\n",
       "      <th>timestamp</th>\n",
       "      <th>datetime</th>\n",
       "      <th>epoch</th>\n",
       "    </tr>\n",
       "  </thead>\n",
       "  <tbody>\n",
       "    <tr>\n",
       "      <th>12</th>\n",
       "      <td>1</td>\n",
       "      <td>04-23-1991</td>\n",
       "      <td>7:25</td>\n",
       "      <td>58</td>\n",
       "      <td>257</td>\n",
       "      <td>257</td>\n",
       "      <td>04-23-1991 7:25</td>\n",
       "      <td>1991-04-23 07:25:00</td>\n",
       "      <td>672391500</td>\n",
       "    </tr>\n",
       "    <tr>\n",
       "      <th>22</th>\n",
       "      <td>1</td>\n",
       "      <td>04-24-1991</td>\n",
       "      <td>22:09</td>\n",
       "      <td>48</td>\n",
       "      <td>340</td>\n",
       "      <td>340</td>\n",
       "      <td>04-24-1991 22:09</td>\n",
       "      <td>1991-04-24 22:09:00</td>\n",
       "      <td>672530940</td>\n",
       "    </tr>\n",
       "    <tr>\n",
       "      <th>30</th>\n",
       "      <td>1</td>\n",
       "      <td>04-25-1991</td>\n",
       "      <td>21:54</td>\n",
       "      <td>48</td>\n",
       "      <td>288</td>\n",
       "      <td>288</td>\n",
       "      <td>04-25-1991 21:54</td>\n",
       "      <td>1991-04-25 21:54:00</td>\n",
       "      <td>672616440</td>\n",
       "    </tr>\n",
       "    <tr>\n",
       "      <th>38</th>\n",
       "      <td>1</td>\n",
       "      <td>04-27-1991</td>\n",
       "      <td>10:03</td>\n",
       "      <td>58</td>\n",
       "      <td>259</td>\n",
       "      <td>259</td>\n",
       "      <td>04-27-1991 10:03</td>\n",
       "      <td>1991-04-27 10:03:00</td>\n",
       "      <td>672746580</td>\n",
       "    </tr>\n",
       "    <tr>\n",
       "      <th>41</th>\n",
       "      <td>1</td>\n",
       "      <td>04-27-1991</td>\n",
       "      <td>17:20</td>\n",
       "      <td>62</td>\n",
       "      <td>256</td>\n",
       "      <td>256</td>\n",
       "      <td>04-27-1991 17:20</td>\n",
       "      <td>1991-04-27 17:20:00</td>\n",
       "      <td>672772800</td>\n",
       "    </tr>\n",
       "  </tbody>\n",
       "</table>\n",
       "</div>"
      ],
      "text/plain": [
       "    id        date   time  code value  val         timestamp  \\\n",
       "12   1  04-23-1991   7:25    58   257  257   04-23-1991 7:25   \n",
       "22   1  04-24-1991  22:09    48   340  340  04-24-1991 22:09   \n",
       "30   1  04-25-1991  21:54    48   288  288  04-25-1991 21:54   \n",
       "38   1  04-27-1991  10:03    58   259  259  04-27-1991 10:03   \n",
       "41   1  04-27-1991  17:20    62   256  256  04-27-1991 17:20   \n",
       "\n",
       "              datetime      epoch  \n",
       "12 1991-04-23 07:25:00  672391500  \n",
       "22 1991-04-24 22:09:00  672530940  \n",
       "30 1991-04-25 21:54:00  672616440  \n",
       "38 1991-04-27 10:03:00  672746580  \n",
       "41 1991-04-27 17:20:00  672772800  "
      ]
     },
     "execution_count": 28,
     "metadata": {},
     "output_type": "execute_result"
    }
   ],
   "source": [
    "df_high.head()"
   ]
  },
  {
   "cell_type": "code",
   "execution_count": 29,
   "metadata": {
    "collapsed": true
   },
   "outputs": [],
   "source": [
    "def findslope(df):\n",
    "    x = df['epoch']\n",
    "    y = df['val']\n",
    "    x = sm.add_constant(x)\n",
    "    model = sm.OLS(y, x)\n",
    "    results = model.fit(method='qr')\n",
    "    coeffs = list(results.params)\n",
    "    return coeffs[1]"
   ]
  },
  {
   "cell_type": "code",
   "execution_count": 30,
   "metadata": {
    "collapsed": true
   },
   "outputs": [],
   "source": [
    "def getslopes(df_in):\n",
    "    slopes = [None] # shift index so index = patient ID\n",
    "    for i in range(1, 71):\n",
    "        # print i\n",
    "        df = df_in[df_in['id'] == i]\n",
    "        if len(df) <= 1:\n",
    "            slopes.append(None) # Need at least 2 data points for ols linear fit\n",
    "        else:\n",
    "            slopes.append(findslope(df))\n",
    "    return slopes"
   ]
  },
  {
   "cell_type": "code",
   "execution_count": 31,
   "metadata": {
    "collapsed": true
   },
   "outputs": [],
   "source": [
    "slopes_high = getslopes(df_high)"
   ]
  },
  {
   "cell_type": "code",
   "execution_count": 32,
   "metadata": {
    "collapsed": false
   },
   "outputs": [
    {
     "name": "stdout",
     "output_type": "stream",
     "text": [
      "[None, -8.0378213099268631e-07, -2.2464706388811591e-06, 7.4526457248426215e-06, 8.273957643395628e-07, 5.093786279592985e-06, 3.9435352448547172e-06, 5.4768103137027428e-06, -5.1938943976353993e-07, -1.0180551995281651e-05, 9.2091634100730616e-06, -1.1111676326635401e-06, 4.6128232442457007e-06, -1.917424549088985e-05, -8.4033075114249059e-06, 5.4384291182310734e-06, 1.200427825754859e-05, 5.6995757948234385e-06, -8.084076296587994e-06, 2.1882596678222678e-05, -2.7560054683421804e-06, 3.0065806662516968e-06, -7.6749961261260884e-06, -1.0288761489054745e-05, 9.5657405976164506e-06, 2.1757412546435753e-05, -9.2925853040210418e-07, -3.9630074107221443e-05, -1.1413513545389397e-06, 1.3406958582196523e-06, -2.439918919418504e-06, 2.1559503825876045e-06, -5.6389233802068131e-05, 1.5225099915804962e-06, -6.0656546962127901e-06, -2.9295090749635332e-06, 6.9065516795538188e-06, -4.5388954248709678e-06, 1.106869148829599e-05, -2.4299781546886435e-07, -9.6881876841574592e-05, -2.1508532966029688e-08, 1.6317867887528343e-06, 1.3358758273453731e-05, 1.1078172816431245e-05, 9.6215978529770548e-06, 9.3278737085063792e-06, 2.536667133253823e-05, -7.0122274674454565e-06, None, None, -2.248321755303627e-06, 1.6870938749240834e-05, -4.1665767050180963e-07, -1.4273214630803207e-06, -1.4772559598875184e-06, -7.493280619721934e-07, -3.582307665252784e-06, 3.6443622868921802e-06, -1.3077197567558766e-05, 8.3714121943164278e-06, 3.9372891983498877e-06, 3.4726364373026261e-07, -7.7981167904728435e-06, -0.00027199439186820868, -3.889311930873863e-08, -8.4284705797901716e-06, -2.469210765931367e-07, 7.237510264056363e-06, 4.4938563341757048e-05, -5.0035697597180289e-06]\n"
     ]
    }
   ],
   "source": [
    "print slopes_high"
   ]
  },
  {
   "cell_type": "code",
   "execution_count": 33,
   "metadata": {
    "collapsed": false
   },
   "outputs": [
    {
     "name": "stdout",
     "output_type": "stream",
     "text": [
      "Patient ID 3 needs attention, high BG increasing over time\n",
      "Patient ID 4 needs attention, high BG increasing over time\n",
      "Patient ID 5 needs attention, high BG increasing over time\n",
      "Patient ID 6 needs attention, high BG increasing over time\n",
      "Patient ID 7 needs attention, high BG increasing over time\n",
      "Patient ID 10 needs attention, high BG increasing over time\n",
      "Patient ID 12 needs attention, high BG increasing over time\n",
      "Patient ID 15 needs attention, high BG increasing over time\n",
      "Patient ID 16 needs attention, high BG increasing over time\n",
      "Patient ID 17 needs attention, high BG increasing over time\n",
      "Patient ID 19 needs attention, high BG increasing over time\n",
      "Patient ID 21 needs attention, high BG increasing over time\n",
      "Patient ID 24 needs attention, high BG increasing over time\n",
      "Patient ID 25 needs attention, high BG increasing over time\n",
      "Patient ID 29 needs attention, high BG increasing over time\n",
      "Patient ID 31 needs attention, high BG increasing over time\n",
      "Patient ID 33 needs attention, high BG increasing over time\n",
      "Patient ID 36 needs attention, high BG increasing over time\n",
      "Patient ID 38 needs attention, high BG increasing over time\n",
      "Patient ID 42 needs attention, high BG increasing over time\n",
      "Patient ID 43 needs attention, high BG increasing over time\n",
      "Patient ID 44 needs attention, high BG increasing over time\n",
      "Patient ID 45 needs attention, high BG increasing over time\n",
      "Patient ID 46 needs attention, high BG increasing over time\n",
      "Patient ID 47 needs attention, high BG increasing over time\n",
      "Patient ID 52 needs attention, high BG increasing over time\n",
      "Patient ID 58 needs attention, high BG increasing over time\n",
      "Patient ID 60 needs attention, high BG increasing over time\n",
      "Patient ID 61 needs attention, high BG increasing over time\n",
      "Patient ID 62 needs attention, high BG increasing over time\n",
      "Patient ID 68 needs attention, high BG increasing over time\n",
      "Patient ID 69 needs attention, high BG increasing over time\n"
     ]
    }
   ],
   "source": [
    "for i in range(1, 71):\n",
    "    if slopes_high[i] > 0:\n",
    "        print 'Patient ID ' + str(i) + ' needs attention, high BG increasing over time'"
   ]
  },
  {
   "cell_type": "markdown",
   "metadata": {},
   "source": [
    "And now the same for the low BG measurements."
   ]
  },
  {
   "cell_type": "code",
   "execution_count": 34,
   "metadata": {
    "collapsed": true
   },
   "outputs": [],
   "source": [
    "df_low = add_epoch(df_low)"
   ]
  },
  {
   "cell_type": "code",
   "execution_count": 35,
   "metadata": {
    "collapsed": false
   },
   "outputs": [],
   "source": [
    "slopes_low = getslopes(df_low)"
   ]
  },
  {
   "cell_type": "code",
   "execution_count": 36,
   "metadata": {
    "collapsed": false
   },
   "outputs": [
    {
     "name": "stdout",
     "output_type": "stream",
     "text": [
      "Patient ID 3 needs attention, low BG decreasing over time\n",
      "Patient ID 5 needs attention, low BG decreasing over time\n",
      "Patient ID 6 needs attention, low BG decreasing over time\n",
      "Patient ID 11 needs attention, low BG decreasing over time\n",
      "Patient ID 15 needs attention, low BG decreasing over time\n",
      "Patient ID 17 needs attention, low BG decreasing over time\n",
      "Patient ID 19 needs attention, low BG decreasing over time\n",
      "Patient ID 21 needs attention, low BG decreasing over time\n",
      "Patient ID 22 needs attention, low BG decreasing over time\n",
      "Patient ID 24 needs attention, low BG decreasing over time\n",
      "Patient ID 26 needs attention, low BG decreasing over time\n",
      "Patient ID 27 needs attention, low BG decreasing over time\n",
      "Patient ID 31 needs attention, low BG decreasing over time\n",
      "Patient ID 32 needs attention, low BG decreasing over time\n",
      "Patient ID 34 needs attention, low BG decreasing over time\n",
      "Patient ID 35 needs attention, low BG decreasing over time\n",
      "Patient ID 37 needs attention, low BG decreasing over time\n",
      "Patient ID 43 needs attention, low BG decreasing over time\n",
      "Patient ID 46 needs attention, low BG decreasing over time\n",
      "Patient ID 48 needs attention, low BG decreasing over time\n",
      "Patient ID 50 needs attention, low BG decreasing over time\n",
      "Patient ID 53 needs attention, low BG decreasing over time\n",
      "Patient ID 54 needs attention, low BG decreasing over time\n",
      "Patient ID 56 needs attention, low BG decreasing over time\n",
      "Patient ID 59 needs attention, low BG decreasing over time\n",
      "Patient ID 62 needs attention, low BG decreasing over time\n",
      "Patient ID 65 needs attention, low BG decreasing over time\n",
      "Patient ID 67 needs attention, low BG decreasing over time\n"
     ]
    }
   ],
   "source": [
    "for i in range(1, 71):\n",
    "    if slopes_low[i] < 0:\n",
    "        print 'Patient ID ' + str(i) + ' needs attention, low BG decreasing over time'"
   ]
  },
  {
   "cell_type": "markdown",
   "metadata": {},
   "source": [
    "Looks like some overlap here.  What if both the highs and lows are out of control?  "
   ]
  },
  {
   "cell_type": "code",
   "execution_count": 37,
   "metadata": {
    "collapsed": false
   },
   "outputs": [
    {
     "name": "stdout",
     "output_type": "stream",
     "text": [
      "Patient ID 3 needs attention, high and low BG getting worse over time\n",
      "Patient ID 5 needs attention, high and low BG getting worse over time\n",
      "Patient ID 6 needs attention, high and low BG getting worse over time\n",
      "Patient ID 15 needs attention, high and low BG getting worse over time\n",
      "Patient ID 17 needs attention, high and low BG getting worse over time\n",
      "Patient ID 19 needs attention, high and low BG getting worse over time\n",
      "Patient ID 21 needs attention, high and low BG getting worse over time\n",
      "Patient ID 24 needs attention, high and low BG getting worse over time\n",
      "Patient ID 31 needs attention, high and low BG getting worse over time\n",
      "Patient ID 43 needs attention, high and low BG getting worse over time\n",
      "Patient ID 46 needs attention, high and low BG getting worse over time\n",
      "Patient ID 62 needs attention, high and low BG getting worse over time\n"
     ]
    }
   ],
   "source": [
    "for i in range(1, 71):\n",
    "    if slopes_high[i] > 0 and slopes_low[i] < 0:\n",
    "        print 'Patient ID ' + str(i) + ' needs attention, high and low BG getting worse over time'"
   ]
  },
  {
   "cell_type": "markdown",
   "metadata": {},
   "source": [
    "## Write datasets to file"
   ]
  },
  {
   "cell_type": "code",
   "execution_count": 38,
   "metadata": {
    "collapsed": true
   },
   "outputs": [],
   "source": [
    "df_bg.to_csv(\"blood_glucose.csv\", header = True)\n",
    "df_high.to_csv(\"blood_glucose_high.csv\", header = True)\n",
    "df_low.to_csv(\"blood_glucose_low.csv\", header = True)"
   ]
  },
  {
   "cell_type": "code",
   "execution_count": null,
   "metadata": {
    "collapsed": true
   },
   "outputs": [],
   "source": []
  }
 ],
 "metadata": {
  "kernelspec": {
   "display_name": "Python 2",
   "language": "python",
   "name": "python2"
  },
  "language_info": {
   "codemirror_mode": {
    "name": "ipython",
    "version": 2
   },
   "file_extension": ".py",
   "mimetype": "text/x-python",
   "name": "python",
   "nbconvert_exporter": "python",
   "pygments_lexer": "ipython2",
   "version": "2.7.11"
  }
 },
 "nbformat": 4,
 "nbformat_minor": 0
}
